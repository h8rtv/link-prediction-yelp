{
 "cells": [
  {
   "cell_type": "code",
   "execution_count": 1,
   "id": "02c84f42-1327-4ce3-b25f-a09f1526912e",
   "metadata": {
    "tags": []
   },
   "outputs": [],
   "source": [
    "import networkx as nx\n",
    "import math\n",
    "import pandas as pd\n",
    "import numpy as np\n",
    "import matplotlib.pyplot as plt\n",
    "from tqdm.notebook import tqdm, trange\n",
    "import random"
   ]
  },
  {
   "cell_type": "code",
   "execution_count": 2,
   "id": "b7880dbf-2f29-4556-8e49-336bf689e03f",
   "metadata": {
    "tags": []
   },
   "outputs": [
    {
     "data": {
      "text/html": [
       "<div>\n",
       "<style scoped>\n",
       "    .dataframe tbody tr th:only-of-type {\n",
       "        vertical-align: middle;\n",
       "    }\n",
       "\n",
       "    .dataframe tbody tr th {\n",
       "        vertical-align: top;\n",
       "    }\n",
       "\n",
       "    .dataframe thead th {\n",
       "        text-align: right;\n",
       "    }\n",
       "</style>\n",
       "<table border=\"1\" class=\"dataframe\">\n",
       "  <thead>\n",
       "    <tr style=\"text-align: right;\">\n",
       "      <th></th>\n",
       "      <th>linkID</th>\n",
       "      <th>venue1</th>\n",
       "      <th>venue2</th>\n",
       "    </tr>\n",
       "  </thead>\n",
       "  <tbody>\n",
       "    <tr>\n",
       "      <th>0</th>\n",
       "      <td>9</td>\n",
       "      <td>mJ_ucQ2_3hfTsmCcKb-hgw</td>\n",
       "      <td>qXGKYRwCR9SLgLl0g_9o5g</td>\n",
       "    </tr>\n",
       "    <tr>\n",
       "      <th>1</th>\n",
       "      <td>135</td>\n",
       "      <td>y19xFolCozaRA-gGmHwkQA</td>\n",
       "      <td>F6c3D1o9Z4Tl6cDorb3WgA</td>\n",
       "    </tr>\n",
       "    <tr>\n",
       "      <th>2</th>\n",
       "      <td>434</td>\n",
       "      <td>R1GwW4C1gh2Nmue9K0WYVA</td>\n",
       "      <td>Ul6JwluSTm12PVDIqnNaTg</td>\n",
       "    </tr>\n",
       "    <tr>\n",
       "      <th>3</th>\n",
       "      <td>262</td>\n",
       "      <td>zzBa0pQjM1gov00bXjYYXg</td>\n",
       "      <td>3D6Uck9QSdxZKFstf5DGlg</td>\n",
       "    </tr>\n",
       "    <tr>\n",
       "      <th>4</th>\n",
       "      <td>383</td>\n",
       "      <td>U2d-meX4sVq0kiqcrpHt1w</td>\n",
       "      <td>vuDL_d3GYAtbvX9EJQqVog</td>\n",
       "    </tr>\n",
       "    <tr>\n",
       "      <th>...</th>\n",
       "      <td>...</td>\n",
       "      <td>...</td>\n",
       "      <td>...</td>\n",
       "    </tr>\n",
       "    <tr>\n",
       "      <th>495</th>\n",
       "      <td>225</td>\n",
       "      <td>aSb4vkaMh7K2lHhnV2UIag</td>\n",
       "      <td>bQ-sXUqPSr4-iJfB764Nzw</td>\n",
       "    </tr>\n",
       "    <tr>\n",
       "      <th>496</th>\n",
       "      <td>288</td>\n",
       "      <td>6p39JCOx1L054G9jM10-5g</td>\n",
       "      <td>xwEYTGJ_82ScbpXcheqqQw</td>\n",
       "    </tr>\n",
       "    <tr>\n",
       "      <th>497</th>\n",
       "      <td>348</td>\n",
       "      <td>6WItftahZ9lNFJxfDPSJ0Q</td>\n",
       "      <td>XPmZnhnx0YeN8Xvo7y2xsA</td>\n",
       "    </tr>\n",
       "    <tr>\n",
       "      <th>498</th>\n",
       "      <td>187</td>\n",
       "      <td>GUriQoD_GHo6DNJlR1_CrA</td>\n",
       "      <td>1w6_xrdhVD-y-DBYpv0YCQ</td>\n",
       "    </tr>\n",
       "    <tr>\n",
       "      <th>499</th>\n",
       "      <td>368</td>\n",
       "      <td>CTiWs36A_sX3eahdqrYxUQ</td>\n",
       "      <td>X8wK-tnwx9ATKhQ7q39ILw</td>\n",
       "    </tr>\n",
       "  </tbody>\n",
       "</table>\n",
       "<p>500 rows × 3 columns</p>\n",
       "</div>"
      ],
      "text/plain": [
       "     linkID                  venue1                  venue2\n",
       "0         9  mJ_ucQ2_3hfTsmCcKb-hgw  qXGKYRwCR9SLgLl0g_9o5g\n",
       "1       135  y19xFolCozaRA-gGmHwkQA  F6c3D1o9Z4Tl6cDorb3WgA\n",
       "2       434  R1GwW4C1gh2Nmue9K0WYVA  Ul6JwluSTm12PVDIqnNaTg\n",
       "3       262  zzBa0pQjM1gov00bXjYYXg  3D6Uck9QSdxZKFstf5DGlg\n",
       "4       383  U2d-meX4sVq0kiqcrpHt1w  vuDL_d3GYAtbvX9EJQqVog\n",
       "..      ...                     ...                     ...\n",
       "495     225  aSb4vkaMh7K2lHhnV2UIag  bQ-sXUqPSr4-iJfB764Nzw\n",
       "496     288  6p39JCOx1L054G9jM10-5g  xwEYTGJ_82ScbpXcheqqQw\n",
       "497     348  6WItftahZ9lNFJxfDPSJ0Q  XPmZnhnx0YeN8Xvo7y2xsA\n",
       "498     187  GUriQoD_GHo6DNJlR1_CrA  1w6_xrdhVD-y-DBYpv0YCQ\n",
       "499     368  CTiWs36A_sX3eahdqrYxUQ  X8wK-tnwx9ATKhQ7q39ILw\n",
       "\n",
       "[500 rows x 3 columns]"
      ]
     },
     "execution_count": 2,
     "metadata": {},
     "output_type": "execute_result"
    }
   ],
   "source": [
    "G = nx.read_gml('GraphMissingEdges.gml')\n",
    "\n",
    "edges_to_evaluate = pd.read_csv('edgesToEvaluate.csv')\n",
    "\n",
    "edges_to_evaluate"
   ]
  },
  {
   "cell_type": "code",
   "execution_count": 3,
   "id": "a4de51d1-5e6f-4b7f-b667-5ba033f66259",
   "metadata": {
    "tags": []
   },
   "outputs": [
    {
     "data": {
      "text/html": [
       "<div>\n",
       "<style scoped>\n",
       "    .dataframe tbody tr th:only-of-type {\n",
       "        vertical-align: middle;\n",
       "    }\n",
       "\n",
       "    .dataframe tbody tr th {\n",
       "        vertical-align: top;\n",
       "    }\n",
       "\n",
       "    .dataframe thead th {\n",
       "        text-align: right;\n",
       "    }\n",
       "</style>\n",
       "<table border=\"1\" class=\"dataframe\">\n",
       "  <thead>\n",
       "    <tr style=\"text-align: right;\">\n",
       "      <th></th>\n",
       "      <th>longitude</th>\n",
       "      <th>latitude</th>\n",
       "      <th>categories</th>\n",
       "      <th>stars</th>\n",
       "      <th>name</th>\n",
       "      <th>reviewCount</th>\n",
       "    </tr>\n",
       "  </thead>\n",
       "  <tbody>\n",
       "    <tr>\n",
       "      <th>ql0AaBp68ckekxvWOF8xLA</th>\n",
       "      <td>-79.992016</td>\n",
       "      <td>40.438701</td>\n",
       "      <td>1,362</td>\n",
       "      <td>3.0</td>\n",
       "      <td>Cafe Fifth Ave</td>\n",
       "      <td>20</td>\n",
       "    </tr>\n",
       "    <tr>\n",
       "      <th>WHxonk9W_sRLk8cwOoZQqQ</th>\n",
       "      <td>-80.064789</td>\n",
       "      <td>40.436045</td>\n",
       "      <td>280,566</td>\n",
       "      <td>4.0</td>\n",
       "      <td>Good Fellas Barber Shop</td>\n",
       "      <td>12</td>\n",
       "    </tr>\n",
       "    <tr>\n",
       "      <th>P6HDtlj1GSu9UG2Aal2PPg</th>\n",
       "      <td>-79.979840</td>\n",
       "      <td>40.386165</td>\n",
       "      <td>327,559,107,63,213</td>\n",
       "      <td>3.0</td>\n",
       "      <td>Tightspot Dancewear Center</td>\n",
       "      <td>4</td>\n",
       "    </tr>\n",
       "    <tr>\n",
       "      <th>3kUqNxO1rkDDb89GAfyNgw</th>\n",
       "      <td>-79.925404</td>\n",
       "      <td>40.457973</td>\n",
       "      <td>338,280,247,292,671,546</td>\n",
       "      <td>4.5</td>\n",
       "      <td>Evolve Wellness Spa Shadyside</td>\n",
       "      <td>95</td>\n",
       "    </tr>\n",
       "    <tr>\n",
       "      <th>v_pED2nMFPsBGD4Tq2ygBw</th>\n",
       "      <td>-80.001983</td>\n",
       "      <td>40.438355</td>\n",
       "      <td>407,247,270,645,438,488</td>\n",
       "      <td>2.0</td>\n",
       "      <td>Nova Dental Associates</td>\n",
       "      <td>5</td>\n",
       "    </tr>\n",
       "    <tr>\n",
       "      <th>nZDIrGshkfLZf6ImQtAasQ</th>\n",
       "      <td>-80.044442</td>\n",
       "      <td>40.382049</td>\n",
       "      <td>58,1,341,275,604,248</td>\n",
       "      <td>3.5</td>\n",
       "      <td>The Saloon of Mt Lebanon</td>\n",
       "      <td>60</td>\n",
       "    </tr>\n",
       "    <tr>\n",
       "      <th>cqPrr2uDMLP9_cPbIiOSrA</th>\n",
       "      <td>-79.930231</td>\n",
       "      <td>40.456795</td>\n",
       "      <td>636,1,849,641</td>\n",
       "      <td>2.5</td>\n",
       "      <td>Bagel Factory</td>\n",
       "      <td>42</td>\n",
       "    </tr>\n",
       "    <tr>\n",
       "      <th>O1ird5yRyuDFnOmYu90OoA</th>\n",
       "      <td>-79.964218</td>\n",
       "      <td>40.466663</td>\n",
       "      <td>124,1,208,651,58,275,738</td>\n",
       "      <td>3.5</td>\n",
       "      <td>Round Corner Cantina</td>\n",
       "      <td>353</td>\n",
       "    </tr>\n",
       "    <tr>\n",
       "      <th>-UjCvAsvBOr19y8lqPueiQ</th>\n",
       "      <td>-79.917630</td>\n",
       "      <td>40.458928</td>\n",
       "      <td>791,1</td>\n",
       "      <td>2.5</td>\n",
       "      <td>China Garden</td>\n",
       "      <td>22</td>\n",
       "    </tr>\n",
       "    <tr>\n",
       "      <th>zzBa0pQjM1gov00bXjYYXg</th>\n",
       "      <td>-79.981787</td>\n",
       "      <td>40.429373</td>\n",
       "      <td>706,641,133,344</td>\n",
       "      <td>3.5</td>\n",
       "      <td>South Side BBQ Company Truck</td>\n",
       "      <td>32</td>\n",
       "    </tr>\n",
       "  </tbody>\n",
       "</table>\n",
       "</div>"
      ],
      "text/plain": [
       "                        longitude   latitude                categories stars  \\\n",
       "ql0AaBp68ckekxvWOF8xLA -79.992016  40.438701                     1,362   3.0   \n",
       "WHxonk9W_sRLk8cwOoZQqQ -80.064789  40.436045                   280,566   4.0   \n",
       "P6HDtlj1GSu9UG2Aal2PPg -79.979840  40.386165        327,559,107,63,213   3.0   \n",
       "3kUqNxO1rkDDb89GAfyNgw -79.925404  40.457973   338,280,247,292,671,546   4.5   \n",
       "v_pED2nMFPsBGD4Tq2ygBw -80.001983  40.438355   407,247,270,645,438,488   2.0   \n",
       "nZDIrGshkfLZf6ImQtAasQ -80.044442  40.382049      58,1,341,275,604,248   3.5   \n",
       "cqPrr2uDMLP9_cPbIiOSrA -79.930231  40.456795             636,1,849,641   2.5   \n",
       "O1ird5yRyuDFnOmYu90OoA -79.964218  40.466663  124,1,208,651,58,275,738   3.5   \n",
       "-UjCvAsvBOr19y8lqPueiQ -79.917630  40.458928                     791,1   2.5   \n",
       "zzBa0pQjM1gov00bXjYYXg -79.981787  40.429373           706,641,133,344   3.5   \n",
       "\n",
       "                                                 name reviewCount  \n",
       "ql0AaBp68ckekxvWOF8xLA                 Cafe Fifth Ave          20  \n",
       "WHxonk9W_sRLk8cwOoZQqQ        Good Fellas Barber Shop          12  \n",
       "P6HDtlj1GSu9UG2Aal2PPg     Tightspot Dancewear Center           4  \n",
       "3kUqNxO1rkDDb89GAfyNgw  Evolve Wellness Spa Shadyside          95  \n",
       "v_pED2nMFPsBGD4Tq2ygBw         Nova Dental Associates           5  \n",
       "nZDIrGshkfLZf6ImQtAasQ       The Saloon of Mt Lebanon          60  \n",
       "cqPrr2uDMLP9_cPbIiOSrA                  Bagel Factory          42  \n",
       "O1ird5yRyuDFnOmYu90OoA           Round Corner Cantina         353  \n",
       "-UjCvAsvBOr19y8lqPueiQ                   China Garden          22  \n",
       "zzBa0pQjM1gov00bXjYYXg   South Side BBQ Company Truck          32  "
      ]
     },
     "execution_count": 3,
     "metadata": {},
     "output_type": "execute_result"
    }
   ],
   "source": [
    "indexes = []\n",
    "data = []\n",
    "for key, attrs in G.nodes.data():\n",
    "    indexes.append(key)\n",
    "    data.append(attrs)\n",
    "\n",
    "nodes = pd.DataFrame(data, index=indexes)\n",
    "nodes.head(10)"
   ]
  },
  {
   "cell_type": "code",
   "execution_count": 4,
   "id": "159609a5-e008-413a-903e-fc974c6967c4",
   "metadata": {
    "tags": []
   },
   "outputs": [],
   "source": [
    "categories = pd.read_csv('categories.csv', index_col='CategoryId')"
   ]
  },
  {
   "cell_type": "markdown",
   "id": "12620dfd-f0f0-494b-b337-986ba03a8667",
   "metadata": {},
   "source": [
    "# First strategy\n",
    "\n",
    "Use a classifier based on decision trees with gradient boosting (CatBoost), using node features, edge weight and shallow embeddings with node2vec."
   ]
  },
  {
   "cell_type": "markdown",
   "id": "0e7b3544-fc67-440b-8679-6a5d7c28a6f5",
   "metadata": {
    "tags": []
   },
   "source": [
    "## Training node2vec"
   ]
  },
  {
   "cell_type": "code",
   "execution_count": 8,
   "id": "9e9f9461-4328-482c-9e9f-6d882e658549",
   "metadata": {
    "tags": []
   },
   "outputs": [],
   "source": [
    "random.seed(42)\n",
    "# Remove training edges\n",
    "prop = 0.25\n",
    "edge_subset = random.sample(list(G.edges.data()), int(prop * G.number_of_edges()))\n",
    "\n",
    "# Copy the graph without the training edges\n",
    "G_edges_removed = G.copy()\n",
    "G_edges_removed.remove_edges_from(edge_subset)"
   ]
  },
  {
   "cell_type": "code",
   "execution_count": 9,
   "id": "d4c2bf7a-258d-4c37-af2c-f798a89c23ef",
   "metadata": {
    "tags": []
   },
   "outputs": [
    {
     "data": {
      "application/vnd.jupyter.widget-view+json": {
       "model_id": "4d515ed03c9647b8b51f24222e0da339",
       "version_major": 2,
       "version_minor": 0
      },
      "text/plain": [
       "Computing transition probabilities:   0%|          | 0/4575 [00:00<?, ?it/s]"
      ]
     },
     "metadata": {},
     "output_type": "display_data"
    },
    {
     "name": "stderr",
     "output_type": "stream",
     "text": [
      "Generating walks (CPU: 3): 100%|██████████| 1/1 [00:01<00:00,  1.26s/it]\n",
      "Generating walks (CPU: 4): 100%|██████████| 1/1 [00:01<00:00,  1.29s/it]\n",
      "Generating walks (CPU: 1): 100%|██████████| 2/2 [00:02<00:00,  1.22s/it]\n",
      "Generating walks (CPU: 5): 100%|██████████| 1/1 [00:01<00:00,  1.29s/it]\n",
      "Generating walks (CPU: 2): 100%|██████████| 2/2 [00:02<00:00,  1.26s/it]\n",
      "Generating walks (CPU: 6): 100%|██████████| 1/1 [00:01<00:00,  1.30s/it]\n",
      "Generating walks (CPU: 7): 100%|██████████| 1/1 [00:01<00:00,  1.21s/it]\n",
      "Generating walks (CPU: 8): 100%|██████████| 1/1 [00:01<00:00,  1.25s/it]\n"
     ]
    }
   ],
   "source": [
    "from node2vec import Node2Vec\n",
    "\n",
    "node2vec = Node2Vec(G_edges_removed, dimensions=128, walk_length=80, num_walks=10, workers=8)\n",
    "\n",
    "n2v_model = node2vec.fit(window=10, min_count=1)"
   ]
  },
  {
   "cell_type": "markdown",
   "id": "806261fc-42ba-4081-b7d7-cd52db465953",
   "metadata": {},
   "source": [
    "## Generate dataset"
   ]
  },
  {
   "cell_type": "code",
   "execution_count": 10,
   "id": "80c3ca08-59bd-4977-bc2a-8657a05cf6c2",
   "metadata": {
    "tags": []
   },
   "outputs": [],
   "source": [
    "# Negative sampling\n",
    "negative_samples = list(nx.non_edges(G))\n",
    "negative_samples = [(u, v, 1) for u, v in negative_samples]\n",
    "\n",
    "# Positive sampling\n",
    "positive_samples = edge_subset\n",
    "positive_samples = [(u, v, p['weight']) for u, v, p in positive_samples]"
   ]
  },
  {
   "cell_type": "code",
   "execution_count": 11,
   "id": "df065477-9118-4c14-9a93-18ffaacfbdb1",
   "metadata": {
    "tags": []
   },
   "outputs": [
    {
     "name": "stdout",
     "output_type": "stream",
     "text": [
      "4747\n"
     ]
    },
    {
     "data": {
      "application/vnd.jupyter.widget-view+json": {
       "model_id": "3a1ab8e129fd4fee8d6d1703678e9fa2",
       "version_major": 2,
       "version_minor": 0
      },
      "text/plain": [
       "  0%|          | 0/4747 [00:00<?, ?it/s]"
      ]
     },
     "metadata": {},
     "output_type": "display_data"
    },
    {
     "name": "stdout",
     "output_type": "stream",
     "text": [
      "4747\n"
     ]
    }
   ],
   "source": [
    "NEGATIVES_SAMPLES_AMOUNT = 1\n",
    "random.seed(42)\n",
    "sampled_negative_samples = random.sample(negative_samples, NEGATIVES_SAMPLES_AMOUNT * len(positive_samples))\n",
    "\n",
    "# remove edge from validation if they are on the testing set\n",
    "def filter_evaluation_edges(sample):\n",
    "    u, v, _ = sample\n",
    "    a1 = edges_to_evaluate[(edges_to_evaluate.venue1 == u) & (edges_to_evaluate.venue2 == v)]\n",
    "    a2 = edges_to_evaluate[(edges_to_evaluate.venue1 == v) & (edges_to_evaluate.venue2 == u)]\n",
    "    return a1.empty and a2.empty\n",
    "\n",
    "print(len(sampled_negative_samples))\n",
    "sampled_negative_samples = list(filter(filter_evaluation_edges, tqdm(sampled_negative_samples)))\n",
    "print(len(sampled_negative_samples))"
   ]
  },
  {
   "cell_type": "markdown",
   "id": "ed99a75f-2438-46cd-b173-4c929094df2c",
   "metadata": {},
   "source": [
    "### Preprocessing and feature engineering\n",
    "\n",
    "The features chosen were:\n",
    "- The Euclidean distance of the nodes\n",
    "- MSE of the shallow embeddings\n",
    "- The categories, coded in a bag of words style, with a feature for each category, with 0 if there is no category and 1 if there is a category. The categories of each node are added together in a single \"bag of categories\" for the edge.\n",
    "- The number of categories that the bag of categories has more than 2, i.e. the size of the intersection of the set of categories for each node.\n",
    "- The sum of the reviews for the nodes\n",
    "- The number of average stars of the nodes"
   ]
  },
  {
   "cell_type": "code",
   "execution_count": 12,
   "id": "6e3c3438-2af7-4f3b-9fea-85a2f09d87cf",
   "metadata": {
    "tags": []
   },
   "outputs": [
    {
     "data": {
      "application/vnd.jupyter.widget-view+json": {
       "model_id": "77d61a6b24804dab94a02e871134044d",
       "version_major": 2,
       "version_minor": 0
      },
      "text/plain": [
       "  0%|          | 0/9494 [00:00<?, ?it/s]"
      ]
     },
     "metadata": {},
     "output_type": "display_data"
    }
   ],
   "source": [
    "# Create dataset and labels\n",
    "data = positive_samples + sampled_negative_samples\n",
    "labels = np.array([1] * len(positive_samples) + [0] * len(sampled_negative_samples))\n",
    "\n",
    "# bag of categories\n",
    "def bag_of_categories(node_categories):\n",
    "    cats = node_categories.split(',')\n",
    "    boc = np.zeros(len(categories), dtype=np.uint8)\n",
    "    for cat in cats:\n",
    "        try:\n",
    "            boc[int(cat)] = 1\n",
    "        except:\n",
    "            pass\n",
    "    return boc\n",
    "\n",
    "\n",
    "def euclidean_dist(node1, node2):\n",
    "    return math.sqrt((node2.latitude - node1.latitude)**2 + (node2.longitude - node1.longitude)**2)\n",
    "\n",
    "def generate_data(data):\n",
    "    for u, v, weight in tqdm(data, total=len(data)):\n",
    "        edge_embedding = (n2v_model.wv[u] - n2v_model.wv[v]) ** 2 # mse of the shallow embeddings\n",
    "        u_node = nodes.loc[u]\n",
    "        v_node = nodes.loc[v]\n",
    "        u_boc = bag_of_categories(u_node.categories) # BoC of u node\n",
    "        v_boc = bag_of_categories(v_node.categories) # BoC of v node\n",
    "        boc = u_boc + v_boc  # shared BoC\n",
    "        dist = euclidean_dist(u_node, v_node) # euclidean distance using lat on long\n",
    "        \n",
    "        row = np.concatenate([\n",
    "            edge_embedding,\n",
    "            boc,\n",
    "            np.array([\n",
    "                (boc > 1).sum(), # boc intersection\n",
    "                dist,\n",
    "                (float(u_node.stars) + float(v_node.stars)) / 2, # average score\n",
    "                int(u_node.reviewCount) + int(v_node.reviewCount), # review sum\n",
    "\n",
    "            ]),\n",
    "        ])\n",
    "        yield row\n",
    "\n",
    "generated_data = tuple(generate_data(data))\n",
    "processed_data = np.vstack(generated_data)"
   ]
  },
  {
   "cell_type": "markdown",
   "id": "1025b52b-74b6-45ee-b5f2-541a174bd42c",
   "metadata": {},
   "source": [
    "## Classifier Training\n",
    "\n",
    "The CatBoost classifier, a gradient boost algorithm, was chosen."
   ]
  },
  {
   "cell_type": "code",
   "execution_count": 13,
   "id": "b7e4b5c1-2d60-4a92-8ebc-a7a68ba00f3d",
   "metadata": {
    "tags": []
   },
   "outputs": [],
   "source": [
    "from sklearn.model_selection import KFold\n",
    "from sklearn.metrics import accuracy_score, f1_score, precision_score, recall_score, roc_auc_score, confusion_matrix, roc_curve\n",
    "from sklearn.ensemble import RandomForestClassifier \n",
    "from sklearn.pipeline import Pipeline\n",
    "import pprint\n",
    "from catboost import CatBoostClassifier\n",
    "\n",
    "def create_model():\n",
    "    model = CatBoostClassifier(iterations=100,\n",
    "                               max_depth=10,\n",
    "                               random_state=42,\n",
    "                               verbose=False)\n",
    "    return model"
   ]
  },
  {
   "cell_type": "markdown",
   "id": "d13e9d7c-851e-476b-a574-dba9850e4798",
   "metadata": {},
   "source": [
    "## Training\n",
    "\n",
    "The k-fold cross validation was performed to validate the quality of the model with the training and test variation."
   ]
  },
  {
   "cell_type": "code",
   "execution_count": 14,
   "id": "b34e5ea5-eb35-476f-825c-fd4591e2a5c2",
   "metadata": {
    "tags": []
   },
   "outputs": [
    {
     "data": {
      "application/vnd.jupyter.widget-view+json": {
       "model_id": "6cb03f842da441849a072fdc693b6773",
       "version_major": 2,
       "version_minor": 0
      },
      "text/plain": [
       "  0%|          | 0/5 [00:00<?, ?it/s]"
      ]
     },
     "metadata": {},
     "output_type": "display_data"
    },
    {
     "name": "stdout",
     "output_type": "stream",
     "text": [
      "Finished... computing metrics\n",
      "Metrics:\n",
      "{   'accuracy': 0.8056872037914692,\n",
      "    'f1': 0.8031999999999999,\n",
      "    'precision': 0.8053475935828877,\n",
      "    'recall': 0.801063829787234,\n",
      "    'roc_auc_score': 0.805641403944712}\n",
      "Finished... computing metrics\n",
      "Metrics:\n",
      "{   'accuracy': 0.8077935755660874,\n",
      "    'f1': 0.8107827890098498,\n",
      "    'precision': 0.8292682926829268,\n",
      "    'recall': 0.7931034482758621,\n",
      "    'roc_auc_score': 0.808380858858632}\n",
      "Finished... computing metrics\n",
      "Metrics:\n",
      "{   'accuracy': 0.8251711427066877,\n",
      "    'f1': 0.8226495726495726,\n",
      "    'precision': 0.8351409978308026,\n",
      "    'recall': 0.8105263157894737,\n",
      "    'roc_auc_score': 0.8251788586323553}\n",
      "Finished... computing metrics\n",
      "Metrics:\n",
      "{   'accuracy': 0.8056872037914692,\n",
      "    'f1': 0.8027792624265099,\n",
      "    'precision': 0.7896950578338591,\n",
      "    'recall': 0.816304347826087,\n",
      "    'roc_auc_score': 0.8060071279477727}\n",
      "Finished... computing metrics\n",
      "Metrics:\n",
      "{   'accuracy': 0.8166491043203372,\n",
      "    'f1': 0.8146964856230032,\n",
      "    'precision': 0.8252427184466019,\n",
      "    'recall': 0.804416403785489,\n",
      "    'roc_auc_score': 0.8166749389571584}\n"
     ]
    }
   ],
   "source": [
    "k = 5\n",
    "kf = KFold(n_splits=k, shuffle=True, random_state=42)\n",
    "all_metrics = []\n",
    "\n",
    "def log_metrics(metrics):\n",
    "    print('Metrics:')\n",
    "    pprint.pprint(metrics, indent=4, width=40)\n",
    "\n",
    "def compute_metrics(y_test, y_pred):\n",
    "    return {\n",
    "        'accuracy': accuracy_score(y_test, y_pred),\n",
    "        'f1': f1_score(y_test, y_pred),\n",
    "        'precision': precision_score(y_test, y_pred),\n",
    "        'recall': recall_score(y_test, y_pred),\n",
    "        'roc_auc_score': roc_auc_score(y_test, y_pred),\n",
    "    }\n",
    "\n",
    "for train_index, test_index in tqdm(kf.split(processed_data), total=k):\n",
    "    X_train, X_test = processed_data[train_index], processed_data[test_index]\n",
    "    y_train, y_test = labels[train_index], labels[test_index]\n",
    "\n",
    "    model = create_model()\n",
    "\n",
    "    model.fit(X_train, y_train)\n",
    "    y_pred = model.predict(X_test)\n",
    "\n",
    "    print('Finished... computing metrics')\n",
    "\n",
    "    metrics = compute_metrics(y_test, y_pred)\n",
    "    log_metrics(metrics)"
   ]
  },
  {
   "cell_type": "markdown",
   "id": "6978cbe5-61dd-40ef-a38b-6fcf531698d9",
   "metadata": {
    "tags": []
   },
   "source": [
    "Once validated, the final training run is carried out, with all the training data available."
   ]
  },
  {
   "cell_type": "code",
   "execution_count": 15,
   "id": "cce35f34-fc8e-4825-a3d0-d8d03ae9ff12",
   "metadata": {
    "tags": []
   },
   "outputs": [
    {
     "name": "stdout",
     "output_type": "stream",
     "text": [
      "1024 9.89248568064104\n"
     ]
    },
    {
     "data": {
      "text/plain": [
       "array([0.        , 0.        , 0.        , 0.        , 0.        ,\n",
       "       0.        , 3.3502119 , 5.66502338, 1.79620469, 9.89248568])"
      ]
     },
     "execution_count": 15,
     "metadata": {},
     "output_type": "execute_result"
    }
   ],
   "source": [
    "model = create_model()\n",
    "\n",
    "model.fit(processed_data, labels)\n",
    "print(np.argmax(model.get_feature_importance()), np.max(model.get_feature_importance()))\n",
    "model.get_feature_importance()[-10:]"
   ]
  },
  {
   "cell_type": "markdown",
   "id": "fb540c65-2ecd-4000-b89a-ab132331f400",
   "metadata": {},
   "source": [
    "Prediction for false positive count in 5000 negative samples."
   ]
  },
  {
   "cell_type": "code",
   "execution_count": 16,
   "id": "a082dd0a-7106-465c-b9d4-aeda2650d57b",
   "metadata": {
    "tags": []
   },
   "outputs": [
    {
     "name": "stdout",
     "output_type": "stream",
     "text": [
      "false positive rate:\n"
     ]
    },
    {
     "data": {
      "application/vnd.jupyter.widget-view+json": {
       "model_id": "3f663ec21eae4c4395818d18514bedba",
       "version_major": 2,
       "version_minor": 0
      },
      "text/plain": [
       "  0%|          | 0/5000 [00:00<?, ?it/s]"
      ]
     },
     "metadata": {},
     "output_type": "display_data"
    },
    {
     "data": {
      "text/plain": [
       "(748, 0.1496)"
      ]
     },
     "execution_count": 16,
     "metadata": {},
     "output_type": "execute_result"
    }
   ],
   "source": [
    "print('false positive rate:')\n",
    "n_fp = model.predict(np.vstack(tuple(generate_data(negative_samples[:5000])))).sum()\n",
    "n_fp, n_fp / 5000"
   ]
  },
  {
   "cell_type": "markdown",
   "id": "6e626f29-ac11-4da8-8ca1-82d96fa6040d",
   "metadata": {},
   "source": [
    "## Inference"
   ]
  },
  {
   "cell_type": "code",
   "execution_count": 17,
   "id": "aa669246-e7d3-4136-9b24-edd3038ee4e2",
   "metadata": {
    "tags": []
   },
   "outputs": [
    {
     "data": {
      "application/vnd.jupyter.widget-view+json": {
       "model_id": "7d5f9905005f4d548ebc17a16c08d984",
       "version_major": 2,
       "version_minor": 0
      },
      "text/plain": [
       "  0%|          | 0/500 [00:00<?, ?it/s]"
      ]
     },
     "metadata": {},
     "output_type": "display_data"
    },
    {
     "data": {
      "text/plain": [
       "246"
      ]
     },
     "execution_count": 17,
     "metadata": {},
     "output_type": "execute_result"
    }
   ],
   "source": [
    "edges_to_eval_list = [(u, v, 1) for _, _, u, v in edges_to_evaluate.to_records()]\n",
    "final_data = np.vstack(tuple(generate_data(edges_to_eval_list)))\n",
    "preds = model.predict(final_data)\n",
    "out = pd.concat([edges_to_evaluate, pd.Series(preds, name='link')], axis=1)\n",
    "out[['linkID', 'link']].to_csv('results_cat_boost.csv', columns=['linkID', 'link'],index=False)\n",
    "preds.sum()"
   ]
  },
  {
   "cell_type": "markdown",
   "id": "eefac0ac-f47a-453a-9196-7877530a3ffa",
   "metadata": {},
   "source": [
    "## Results obtained on kaggle\n",
    "\n",
    "- 0.81794 -> best tested result\n",
    "- 0.80586 -> second best tested result"
   ]
  }
 ],
 "metadata": {
  "kernelspec": {
   "display_name": "Python 3 (ipykernel)",
   "language": "python",
   "name": "python3"
  },
  "language_info": {
   "codemirror_mode": {
    "name": "ipython",
    "version": 3
   },
   "file_extension": ".py",
   "mimetype": "text/x-python",
   "name": "python",
   "nbconvert_exporter": "python",
   "pygments_lexer": "ipython3",
   "version": "3.10.10"
  }
 },
 "nbformat": 4,
 "nbformat_minor": 5
}
